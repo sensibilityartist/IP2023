{
 "cells": [
  {
   "cell_type": "code",
   "execution_count": 1,
   "metadata": {},
   "outputs": [
    {
     "data": {
      "text/plain": [
       "['abc', 45, 4.34, 23]"
      ]
     },
     "execution_count": 1,
     "metadata": {},
     "output_type": "execute_result"
    }
   ],
   "source": [
    "li = ['abc', 23, 4.34, 23]\n",
    "li[1] = 45\n",
    "li"
   ]
  },
  {
   "cell_type": "code",
   "execution_count": 31,
   "metadata": {},
   "outputs": [],
   "source": [
    "# t = (23, 'abc', 4.56, (2,3), 'def')\n",
    "# t[2] = 3.14 <---You cannot change the tuple. \n",
    "#             Create a new tuner and assign reference to the previous tuner"
   ]
  },
  {
   "cell_type": "code",
   "execution_count": 12,
   "metadata": {},
   "outputs": [
    {
     "name": "stdout",
     "output_type": "stream",
     "text": [
      "[1, 11, 3, 4, 5, 'a']\n",
      "[1, 11, 'i', 3, 4, 5, 'a']\n",
      "[1, 11, 'i', 3, 4, 5, 'a', 9, 8, 7]\n",
      "[1, 11, 'i', 3, 4, 5, 'a', 9, 8, 7, [10, 11, 12]]\n"
     ]
    }
   ],
   "source": [
    "li = [1, 11, 3, 4, 5]\n",
    "li.append('a')\n",
    "print(li)\n",
    "\n",
    "li.insert(2, 'i')\n",
    "print(li)\n",
    "\n",
    "li.extend([9, 8, 7])\n",
    "print(li)\n",
    "\n",
    "li.append([10, 11, 12])\n",
    "print(li)"
   ]
  },
  {
   "cell_type": "code",
   "execution_count": 19,
   "metadata": {},
   "outputs": [
    {
     "name": "stdout",
     "output_type": "stream",
     "text": [
      "1\n",
      "2\n"
     ]
    },
    {
     "data": {
      "text/plain": [
       "['a', 'c', 'b']"
      ]
     },
     "execution_count": 19,
     "metadata": {},
     "output_type": "execute_result"
    }
   ],
   "source": [
    "li = ['a', 'b', 'c', 'b']\n",
    "print(li.index('b'))\n",
    "print(li.count('b'))\n",
    "li.remove('b')\n",
    "li"
   ]
  },
  {
   "cell_type": "code",
   "execution_count": 29,
   "metadata": {},
   "outputs": [
    {
     "name": "stdout",
     "output_type": "stream",
     "text": [
      "[8, 6, 2, 5]\n",
      "[2, 5, 6, 8]\n"
     ]
    }
   ],
   "source": [
    "li = [5, 2, 6, 8]\n",
    "li.reverse()\n",
    "print(li)\n",
    "li.sort()\n",
    "print(li)"
   ]
  }
 ],
 "metadata": {
  "kernelspec": {
   "display_name": "IP2023",
   "language": "python",
   "name": "python3"
  },
  "language_info": {
   "codemirror_mode": {
    "name": "ipython",
    "version": 3
   },
   "file_extension": ".py",
   "mimetype": "text/x-python",
   "name": "python",
   "nbconvert_exporter": "python",
   "pygments_lexer": "ipython3",
   "version": "3.8.17"
  },
  "orig_nbformat": 4
 },
 "nbformat": 4,
 "nbformat_minor": 2
}
