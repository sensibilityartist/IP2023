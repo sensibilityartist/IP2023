{
 "cells": [
  {
   "cell_type": "code",
   "execution_count": 141,
   "metadata": {},
   "outputs": [],
   "source": [
    "import cv2\n",
    "import numpy as np\n",
    "\n",
    "img = cv2.imread('dsu2.jpg')\n",
    "res = cv2.resize(img, None, fx=2, fy=2, interpolation = cv2.INTER_CUBIC)\n",
    "rows,cols,ch = img.shape\n",
    "\n",
    "pts1 = np.float32([[180,240],[820,220],[180,500],[820,512]])\n",
    "pts2 = np.float32([[100,220],[900,210],[105,500],[900,500]])\n",
    "M = cv2.getPerspectiveTransform(pts1,pts2)\n",
    "dst = cv2.warpPerspective(img,M,(1020,770))\n",
    "\n",
    "cv2.imshow('img',img)\n",
    "cv2.imshow('resize_img',dst)\n",
    "cv2.waitKey(0)\n",
    "cv2.destroyAllWindows()"
   ]
  }
 ],
 "metadata": {
  "kernelspec": {
   "display_name": "IP2023",
   "language": "python",
   "name": "python3"
  },
  "language_info": {
   "codemirror_mode": {
    "name": "ipython",
    "version": 3
   },
   "file_extension": ".py",
   "mimetype": "text/x-python",
   "name": "python",
   "nbconvert_exporter": "python",
   "pygments_lexer": "ipython3",
   "version": "3.8.18"
  }
 },
 "nbformat": 4,
 "nbformat_minor": 2
}
