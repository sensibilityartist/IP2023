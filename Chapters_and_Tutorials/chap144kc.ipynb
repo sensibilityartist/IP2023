{
 "cells": [
  {
   "cell_type": "markdown",
   "metadata": {},
   "source": [
    "# 1.4.4 Smoothing Images"
   ]
  },
  {
   "cell_type": "markdown",
   "metadata": {},
   "source": [
    "## Kernel Convolution"
   ]
  },
  {
   "cell_type": "code",
   "execution_count": 16,
   "metadata": {},
   "outputs": [],
   "source": [
    "import cv2\n",
    "import numpy as np\n",
    "from matplotlib import pyplot as plt"
   ]
  },
  {
   "cell_type": "code",
   "execution_count": 17,
   "metadata": {},
   "outputs": [],
   "source": [
    "l=1\n",
    "kernel = np.array([[0,-1,0],[-1,4,-1],[0,-1,0]],np.float32)"
   ]
  },
  {
   "cell_type": "code",
   "execution_count": 18,
   "metadata": {},
   "outputs": [
    {
     "data": {
      "text/plain": [
       "array([[ 0., -1.,  0.],\n",
       "       [-1.,  4., -1.],\n",
       "       [ 0., -1.,  0.]], dtype=float32)"
      ]
     },
     "execution_count": 18,
     "metadata": {},
     "output_type": "execute_result"
    }
   ],
   "source": [
    "kernel"
   ]
  },
  {
   "cell_type": "code",
   "execution_count": 19,
   "metadata": {},
   "outputs": [],
   "source": [
    "img = np.random.randint(10, size=(12,12))\n",
    "#img = np.ones((10,10),np.float32)"
   ]
  },
  {
   "cell_type": "code",
   "execution_count": 20,
   "metadata": {},
   "outputs": [
    {
     "data": {
      "text/plain": [
       "array([[5, 7, 4, 6, 0, 2, 9, 4, 0, 2, 7, 5],\n",
       "       [0, 6, 5, 0, 8, 1, 9, 4, 7, 9, 0, 1],\n",
       "       [1, 8, 4, 9, 5, 3, 9, 1, 9, 9, 1, 5],\n",
       "       [5, 8, 8, 9, 5, 4, 5, 7, 0, 1, 2, 8],\n",
       "       [7, 7, 5, 1, 7, 9, 1, 4, 6, 7, 9, 1],\n",
       "       [7, 6, 0, 1, 7, 4, 8, 3, 7, 3, 6, 7],\n",
       "       [0, 0, 1, 6, 5, 8, 8, 5, 9, 4, 6, 3],\n",
       "       [4, 1, 0, 4, 4, 3, 5, 9, 5, 7, 1, 1],\n",
       "       [4, 0, 4, 8, 4, 5, 1, 9, 1, 0, 1, 4],\n",
       "       [1, 7, 5, 9, 3, 1, 5, 9, 3, 8, 6, 4],\n",
       "       [2, 0, 1, 1, 1, 6, 5, 4, 0, 3, 1, 5],\n",
       "       [3, 7, 2, 3, 4, 2, 1, 0, 3, 9, 3, 4]])"
      ]
     },
     "execution_count": 20,
     "metadata": {},
     "output_type": "execute_result"
    }
   ],
   "source": [
    "img"
   ]
  },
  {
   "cell_type": "code",
   "execution_count": 21,
   "metadata": {},
   "outputs": [],
   "source": [
    "h,w=img.shape"
   ]
  },
  {
   "cell_type": "code",
   "execution_count": 22,
   "metadata": {},
   "outputs": [
    {
     "name": "stdout",
     "output_type": "stream",
     "text": [
      "12 12\n"
     ]
    }
   ],
   "source": [
    "print(h,w)"
   ]
  },
  {
   "cell_type": "code",
   "execution_count": 23,
   "metadata": {},
   "outputs": [],
   "source": [
    "#[*range(-2,3)]"
   ]
  },
  {
   "cell_type": "code",
   "execution_count": null,
   "metadata": {},
   "outputs": [],
   "source": [
    "dst = np.zeros((h,w),np.int)"
   ]
  },
  {
   "cell_type": "code",
   "execution_count": null,
   "metadata": {},
   "outputs": [],
   "source": [
    "for i in range(l,h-l):\n",
    "    for j in range(l,w-l):\n",
    "        t=0\n",
    "        for p in range(-l,l+1):\n",
    "            for q in range(-l,l+1):\n",
    "                t += kernel[p+l,q+l]*img[i+p,j+q]\n",
    "        dst[i,j]=t        "
   ]
  },
  {
   "cell_type": "code",
   "execution_count": 26,
   "metadata": {},
   "outputs": [
    {
     "data": {
      "text/plain": [
       "array([[5, 7, 4, 6, 0, 2, 9, 4, 0, 2, 7, 5],\n",
       "       [0, 6, 5, 0, 8, 1, 9, 4, 7, 9, 0, 1],\n",
       "       [1, 8, 4, 9, 5, 3, 9, 1, 9, 9, 1, 5],\n",
       "       [5, 8, 8, 9, 5, 4, 5, 7, 0, 1, 2, 8],\n",
       "       [7, 7, 5, 1, 7, 9, 1, 4, 6, 7, 9, 1],\n",
       "       [7, 6, 0, 1, 7, 4, 8, 3, 7, 3, 6, 7],\n",
       "       [0, 0, 1, 6, 5, 8, 8, 5, 9, 4, 6, 3],\n",
       "       [4, 1, 0, 4, 4, 3, 5, 9, 5, 7, 1, 1],\n",
       "       [4, 0, 4, 8, 4, 5, 1, 9, 1, 0, 1, 4],\n",
       "       [1, 7, 5, 9, 3, 1, 5, 9, 3, 8, 6, 4],\n",
       "       [2, 0, 1, 1, 1, 6, 5, 4, 0, 3, 1, 5],\n",
       "       [3, 7, 2, 3, 4, 2, 1, 0, 3, 9, 3, 4]])"
      ]
     },
     "execution_count": 26,
     "metadata": {},
     "output_type": "execute_result"
    }
   ],
   "source": [
    "img"
   ]
  },
  {
   "cell_type": "code",
   "execution_count": null,
   "metadata": {},
   "outputs": [],
   "source": [
    "dst"
   ]
  },
  {
   "cell_type": "code",
   "execution_count": 28,
   "metadata": {},
   "outputs": [],
   "source": [
    "img = cv2.imread('lena.png', 0)"
   ]
  },
  {
   "cell_type": "code",
   "execution_count": 29,
   "metadata": {},
   "outputs": [],
   "source": [
    "h,w=img.shape"
   ]
  },
  {
   "cell_type": "code",
   "execution_count": 30,
   "metadata": {},
   "outputs": [],
   "source": [
    "dst = np.zeros((h-2*l,w-2*l),np.uint8)"
   ]
  },
  {
   "cell_type": "code",
   "execution_count": 31,
   "metadata": {},
   "outputs": [],
   "source": [
    "for i in range(l,h-l):\n",
    "    for j in range(l,w-l):\n",
    "        t=0\n",
    "        for p in range(-l,l+1):\n",
    "            for q in range(-l,l+1):\n",
    "                t += kernel[p+l,q+l]*img[i+p,j+q]\n",
    "        dst[i-l,j-l]=t "
   ]
  },
  {
   "cell_type": "code",
   "execution_count": 32,
   "metadata": {},
   "outputs": [],
   "source": [
    "cv2.imshow('img',img)\n",
    "cv2.imshow('dst',dst)\n",
    "cv2.waitKey(0)\n",
    "cv2.destroyAllWindows()"
   ]
  }
 ],
 "metadata": {
  "kernelspec": {
   "display_name": "Python 3",
   "language": "python",
   "name": "python3"
  },
  "language_info": {
   "codemirror_mode": {
    "name": "ipython",
    "version": 3
   },
   "file_extension": ".py",
   "mimetype": "text/x-python",
   "name": "python",
   "nbconvert_exporter": "python",
   "pygments_lexer": "ipython3",
   "version": "3.8.18"
  }
 },
 "nbformat": 4,
 "nbformat_minor": 4
}
